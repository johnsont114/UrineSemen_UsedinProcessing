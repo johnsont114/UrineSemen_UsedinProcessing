{
 "cells": [
  {
   "cell_type": "code",
   "execution_count": 68,
   "id": "0a55a923",
   "metadata": {},
   "outputs": [],
   "source": [
    "import pandas as pd\n",
    "import matplotlib.pyplot as plt"
   ]
  },
  {
   "cell_type": "code",
   "execution_count": 69,
   "id": "e481c068",
   "metadata": {},
   "outputs": [],
   "source": [
    "# Step 1: Load the data from the CSV file\n",
    "data = pd.read_csv('Mass+Intensity.csv')"
   ]
  },
  {
   "cell_type": "code",
   "execution_count": 70,
   "id": "2fbc5006",
   "metadata": {},
   "outputs": [
    {
     "data": {
      "text/html": [
       "<div>\n",
       "<style scoped>\n",
       "    .dataframe tbody tr th:only-of-type {\n",
       "        vertical-align: middle;\n",
       "    }\n",
       "\n",
       "    .dataframe tbody tr th {\n",
       "        vertical-align: top;\n",
       "    }\n",
       "\n",
       "    .dataframe thead th {\n",
       "        text-align: right;\n",
       "    }\n",
       "</style>\n",
       "<table border=\"1\" class=\"dataframe\">\n",
       "  <thead>\n",
       "    <tr style=\"text-align: right;\">\n",
       "      <th></th>\n",
       "      <th>A</th>\n",
       "      <th>A.1</th>\n",
       "      <th>A.2</th>\n",
       "      <th>A.3</th>\n",
       "      <th>A.4</th>\n",
       "      <th>A.5</th>\n",
       "      <th>A.6</th>\n",
       "      <th>A.7</th>\n",
       "      <th>A.8</th>\n",
       "      <th>A.9</th>\n",
       "      <th>...</th>\n",
       "      <th>A.193</th>\n",
       "      <th>A.194</th>\n",
       "      <th>A.195</th>\n",
       "      <th>A.196</th>\n",
       "      <th>A.197</th>\n",
       "      <th>A.198</th>\n",
       "      <th>A.199</th>\n",
       "      <th>A.200</th>\n",
       "      <th>A.201</th>\n",
       "      <th>A.202</th>\n",
       "    </tr>\n",
       "  </thead>\n",
       "  <tbody>\n",
       "    <tr>\n",
       "      <th>0</th>\n",
       "      <td>6,10a-dihydroxy-4-(hydroxymethyl)-4,7,11b-trim...</td>\n",
       "      <td>52.89857</td>\n",
       "      <td>67.05452</td>\n",
       "      <td>67.89941</td>\n",
       "      <td>69.07005</td>\n",
       "      <td>71.01316</td>\n",
       "      <td>71.04950</td>\n",
       "      <td>79.05457</td>\n",
       "      <td>81.07009</td>\n",
       "      <td>83.08576</td>\n",
       "      <td>...</td>\n",
       "      <td>NaN</td>\n",
       "      <td>NaN</td>\n",
       "      <td>NaN</td>\n",
       "      <td>NaN</td>\n",
       "      <td>NaN</td>\n",
       "      <td>NaN</td>\n",
       "      <td>NaN</td>\n",
       "      <td>NaN</td>\n",
       "      <td>NaN</td>\n",
       "      <td>NaN</td>\n",
       "    </tr>\n",
       "    <tr>\n",
       "      <th>1</th>\n",
       "      <td>MS/MS</td>\n",
       "      <td>50315.00000</td>\n",
       "      <td>69571.00000</td>\n",
       "      <td>54155.00000</td>\n",
       "      <td>57415.00000</td>\n",
       "      <td>68976.00000</td>\n",
       "      <td>88785.00000</td>\n",
       "      <td>135205.00000</td>\n",
       "      <td>470703.00000</td>\n",
       "      <td>71977.00000</td>\n",
       "      <td>...</td>\n",
       "      <td>NaN</td>\n",
       "      <td>NaN</td>\n",
       "      <td>NaN</td>\n",
       "      <td>NaN</td>\n",
       "      <td>NaN</td>\n",
       "      <td>NaN</td>\n",
       "      <td>NaN</td>\n",
       "      <td>NaN</td>\n",
       "      <td>NaN</td>\n",
       "      <td>NaN</td>\n",
       "    </tr>\n",
       "    <tr>\n",
       "      <th>2</th>\n",
       "      <td>6,10a-dihydroxy-4-(hydroxymethyl)-4,7,11b-trim...</td>\n",
       "      <td>62.77433</td>\n",
       "      <td>67.05455</td>\n",
       "      <td>69.07013</td>\n",
       "      <td>71.01306</td>\n",
       "      <td>71.04927</td>\n",
       "      <td>75.02482</td>\n",
       "      <td>79.05457</td>\n",
       "      <td>79.73860</td>\n",
       "      <td>81.07013</td>\n",
       "      <td>...</td>\n",
       "      <td>NaN</td>\n",
       "      <td>NaN</td>\n",
       "      <td>NaN</td>\n",
       "      <td>NaN</td>\n",
       "      <td>NaN</td>\n",
       "      <td>NaN</td>\n",
       "      <td>NaN</td>\n",
       "      <td>NaN</td>\n",
       "      <td>NaN</td>\n",
       "      <td>NaN</td>\n",
       "    </tr>\n",
       "    <tr>\n",
       "      <th>3</th>\n",
       "      <td>MS/MS</td>\n",
       "      <td>13492.00000</td>\n",
       "      <td>18079.00000</td>\n",
       "      <td>39842.00000</td>\n",
       "      <td>43853.00000</td>\n",
       "      <td>14189.00000</td>\n",
       "      <td>13493.00000</td>\n",
       "      <td>35254.00000</td>\n",
       "      <td>12288.00000</td>\n",
       "      <td>164399.00000</td>\n",
       "      <td>...</td>\n",
       "      <td>NaN</td>\n",
       "      <td>NaN</td>\n",
       "      <td>NaN</td>\n",
       "      <td>NaN</td>\n",
       "      <td>NaN</td>\n",
       "      <td>NaN</td>\n",
       "      <td>NaN</td>\n",
       "      <td>NaN</td>\n",
       "      <td>NaN</td>\n",
       "      <td>NaN</td>\n",
       "    </tr>\n",
       "    <tr>\n",
       "      <th>4</th>\n",
       "      <td>6,10a-dihydroxy-4-(hydroxymethyl)-4,7,11b-trim...</td>\n",
       "      <td>55.01813</td>\n",
       "      <td>67.05452</td>\n",
       "      <td>67.34754</td>\n",
       "      <td>69.07032</td>\n",
       "      <td>71.01311</td>\n",
       "      <td>79.05445</td>\n",
       "      <td>81.07013</td>\n",
       "      <td>83.08569</td>\n",
       "      <td>85.06506</td>\n",
       "      <td>...</td>\n",
       "      <td>NaN</td>\n",
       "      <td>NaN</td>\n",
       "      <td>NaN</td>\n",
       "      <td>NaN</td>\n",
       "      <td>NaN</td>\n",
       "      <td>NaN</td>\n",
       "      <td>NaN</td>\n",
       "      <td>NaN</td>\n",
       "      <td>NaN</td>\n",
       "      <td>NaN</td>\n",
       "    </tr>\n",
       "  </tbody>\n",
       "</table>\n",
       "<p>5 rows × 203 columns</p>\n",
       "</div>"
      ],
      "text/plain": [
       "                                                   A          A.1  \\\n",
       "0  6,10a-dihydroxy-4-(hydroxymethyl)-4,7,11b-trim...     52.89857   \n",
       "1                                              MS/MS  50315.00000   \n",
       "2  6,10a-dihydroxy-4-(hydroxymethyl)-4,7,11b-trim...     62.77433   \n",
       "3                                              MS/MS  13492.00000   \n",
       "4  6,10a-dihydroxy-4-(hydroxymethyl)-4,7,11b-trim...     55.01813   \n",
       "\n",
       "           A.2          A.3          A.4          A.5          A.6  \\\n",
       "0     67.05452     67.89941     69.07005     71.01316     71.04950   \n",
       "1  69571.00000  54155.00000  57415.00000  68976.00000  88785.00000   \n",
       "2     67.05455     69.07013     71.01306     71.04927     75.02482   \n",
       "3  18079.00000  39842.00000  43853.00000  14189.00000  13493.00000   \n",
       "4     67.05452     67.34754     69.07032     71.01311     79.05445   \n",
       "\n",
       "            A.7           A.8           A.9  ...  A.193  A.194  A.195  A.196  \\\n",
       "0      79.05457      81.07009      83.08576  ...    NaN    NaN    NaN    NaN   \n",
       "1  135205.00000  470703.00000   71977.00000  ...    NaN    NaN    NaN    NaN   \n",
       "2      79.05457      79.73860      81.07013  ...    NaN    NaN    NaN    NaN   \n",
       "3   35254.00000   12288.00000  164399.00000  ...    NaN    NaN    NaN    NaN   \n",
       "4      81.07013      83.08569      85.06506  ...    NaN    NaN    NaN    NaN   \n",
       "\n",
       "   A.197  A.198  A.199  A.200  A.201  A.202  \n",
       "0    NaN    NaN    NaN    NaN    NaN    NaN  \n",
       "1    NaN    NaN    NaN    NaN    NaN    NaN  \n",
       "2    NaN    NaN    NaN    NaN    NaN    NaN  \n",
       "3    NaN    NaN    NaN    NaN    NaN    NaN  \n",
       "4    NaN    NaN    NaN    NaN    NaN    NaN  \n",
       "\n",
       "[5 rows x 203 columns]"
      ]
     },
     "execution_count": 70,
     "metadata": {},
     "output_type": "execute_result"
    }
   ],
   "source": [
    "data.head()"
   ]
  },
  {
   "cell_type": "code",
   "execution_count": 71,
   "id": "918561fc",
   "metadata": {},
   "outputs": [],
   "source": [
    "x = data.iloc[i].values[1:]  # This gets the first row\n",
    "y = data.iloc[i+1].values[1:]  # This gets the second row"
   ]
  },
  {
   "cell_type": "code",
   "execution_count": 72,
   "id": "282c7043",
   "metadata": {},
   "outputs": [
    {
     "data": {
      "text/plain": [
       "(50.0, 400.0)"
      ]
     },
     "execution_count": 72,
     "metadata": {},
     "output_type": "execute_result"
    },
    {
     "data": {
      "image/png": "[encoded data removed]",
      "text/plain": [
       "<Figure size 640x480 with 1 Axes>"
      ]
     },
     "metadata": {},
     "output_type": "display_data"
    }
   ],
   "source": [
    "# Step 2: Create the scatter plot\n",
    "plt.scatter(x, y, label='Data Points')\n",
    "plt.xlim(50,400)"
   ]
  },
  {
   "cell_type": "code",
   "execution_count": 73,
   "id": "c3600bc6",
   "metadata": {},
   "outputs": [
    {
     "name": "stderr",
     "output_type": "stream",
     "text": [
      "C:\\Users\\JOHNST47\\AppData\\Local\\anaconda3\\Lib\\site-packages\\matplotlib\\axes\\_base.py:2503: UserWarning: Warning: converting a masked element to nan.\n",
      "  xys = np.asarray(xys)\n"
     ]
    },
    {
     "data": {
      "image/png": "[encoded data removed]",
      "text/plain": [
       "<Figure size 640x480 with 1 Axes>"
      ]
     },
     "metadata": {},
     "output_type": "display_data"
    }
   ],
   "source": [
    "# Step 3: Add vertical lines from the x-axis to each data point\n",
    "for xi, yi in zip(x, y):\n",
    "    plt.vlines(xi, 0, yi, colors='black', linestyles='solid', alpha=0.7)\n",
    "\n",
    "# Add labels and title\n",
    "plt.xlabel('m/z')\n",
    "plt.ylabel('Intensity')\n",
    "plt.title(\"Mass Spectrum of 4'-ethenyl-2'-hydroxy-1,4',4a-trimethyl-5-oxospiro[2,3,4,7,8,8a-hexahydronaphthalene-6,1'-cyclopentane]-1-carboxylic acid\")\n",
    "plt.xlim(50,500)\n",
    "#plt.ylim(0,max)\n",
    "#plt.legend()\n",
    "\n",
    "# Show the plot\n",
    "tester = plt.show()"
   ]
  },
  {
   "cell_type": "code",
   "execution_count": 74,
   "id": "db85b719",
   "metadata": {},
   "outputs": [
    {
     "data": {
      "text/plain": [
       "<Figure size 640x480 with 0 Axes>"
      ]
     },
     "metadata": {},
     "output_type": "display_data"
    }
   ],
   "source": [
    "plt.savefig(\"Mass Spectrum of 4'-ethenyl-2'-hydroxy-1,4',4a-trimethyl-5-oxospiro[2,3,4,7,8,8a-hexahydronaphthalene-6,1'-cyclopentane]-1-carboxylic acid\", dpi=300)"
   ]
  },
  {
   "cell_type": "code",
   "execution_count": null,
   "id": "c0ae0294",
   "metadata": {},
   "outputs": [],
   "source": []
  }
 ],
 "metadata": {
  "kernelspec": {
   "display_name": "Python 3 (ipykernel)",
   "language": "python",
   "name": "python3"
  },
  "language_info": {
   "codemirror_mode": {
    "name": "ipython",
    "version": 3
   },
   "file_extension": ".py",
   "mimetype": "text/x-python",
   "name": "python",
   "nbconvert_exporter": "python",
   "pygments_lexer": "ipython3",
   "version": "3.11.5"
  }
 },
 "nbformat": 4,
 "nbformat_minor": 5
}
